{
 "cells": [
  {
   "cell_type": "code",
   "execution_count": 3,
   "id": "0a9473b9",
   "metadata": {},
   "outputs": [],
   "source": [
    "import torch.nn as nn\n",
    "from torch.nn import Conv2d,MaxPool2d,Flatten,Linear"
   ]
  },
  {
   "cell_type": "code",
   "execution_count": 4,
   "id": "5bfa609c",
   "metadata": {},
   "outputs": [],
   "source": [
    "class myModel(nn.Module):\n",
    "    def __init__(self):\n",
    "        super().__init__()\n",
    "        self.conv1=Conv2d(3,32,5,padding=2)\n",
    "        self.maxPool1=MaxPool2d(2)\n",
    "        self.conv2=Conv2d(32,32,5,padding=2)\n",
    "        self.maxPool2=MaxPool2d(2)\n",
    "        self.conv3=Conv2d(32,64,5,padding=2)\n",
    "        self.maxPool3=MaxPool2d(2)\n",
    "        self.flatten=Flatten()\n",
    "        self.linear1=Linear(1024,64) \n",
    "        self.linear2=Linear(64,10)\n",
    "    def forward(self,x):\n",
    "        x=self.conv1(x)\n",
    "        x=self.maxPool1(x)\n",
    "        x=self.conv2(x)\n",
    "        x=self.maxPool2(x)\n",
    "        x=self.conv3(x)\n",
    "        x=self.maxPool3(x)\n",
    "        x=self.flatten(x)\n",
    "        x=self.linear1(x)\n",
    "        x=self.linear2(x)\n",
    "        return x\n",
    "    "
   ]
  },
  {
   "cell_type": "code",
   "execution_count": 5,
   "id": "ab0067de",
   "metadata": {},
   "outputs": [],
   "source": [
    "class myModel(nn.Module):\n",
    "    def __init__(self):\n",
    "        super().__init__()\n",
    "        self.model=nn.Sequential(\n",
    "            Conv2d(3,32,5,padding=2),\n",
    "            MaxPool2d(2),\n",
    "            Conv2d(32,32,5,padding=2),\n",
    "            MaxPool2d(2),\n",
    "            Conv2d(32,64,5,padding=2),\n",
    "            MaxPool2d(2),\n",
    "            Flatten(),\n",
    "            Linear(1024,64) ,\n",
    "            Linear(64,10)\n",
    "        )\n",
    "        \n",
    "    def forward(self,x):\n",
    "        return self.model(x)\n",
    "    "
   ]
  },
  {
   "cell_type": "code",
   "execution_count": 6,
   "id": "82c8f1b8",
   "metadata": {},
   "outputs": [
    {
     "data": {
      "text/plain": [
       "myModel(\n",
       "  (model): Sequential(\n",
       "    (0): Conv2d(3, 32, kernel_size=(5, 5), stride=(1, 1), padding=(2, 2))\n",
       "    (1): MaxPool2d(kernel_size=2, stride=2, padding=0, dilation=1, ceil_mode=False)\n",
       "    (2): Conv2d(32, 32, kernel_size=(5, 5), stride=(1, 1), padding=(2, 2))\n",
       "    (3): MaxPool2d(kernel_size=2, stride=2, padding=0, dilation=1, ceil_mode=False)\n",
       "    (4): Conv2d(32, 64, kernel_size=(5, 5), stride=(1, 1), padding=(2, 2))\n",
       "    (5): MaxPool2d(kernel_size=2, stride=2, padding=0, dilation=1, ceil_mode=False)\n",
       "    (6): Flatten(start_dim=1, end_dim=-1)\n",
       "    (7): Linear(in_features=1024, out_features=64, bias=True)\n",
       "    (8): Linear(in_features=64, out_features=10, bias=True)\n",
       "  )\n",
       ")"
      ]
     },
     "execution_count": 6,
     "metadata": {},
     "output_type": "execute_result"
    }
   ],
   "source": [
    "model=myModel()\n",
    "model"
   ]
  },
  {
   "cell_type": "code",
   "execution_count": 7,
   "id": "443f2c30",
   "metadata": {},
   "outputs": [],
   "source": [
    "import torch\n",
    "tmp=torch.randn((64,3,32,32))"
   ]
  },
  {
   "cell_type": "code",
   "execution_count": 8,
   "id": "4a97b5c6",
   "metadata": {},
   "outputs": [
    {
     "data": {
      "text/plain": [
       "tensor([[ 0.1478, -0.0659,  0.0972,  0.0320,  0.1085, -0.0633,  0.0292, -0.0504,\n",
       "          0.0560,  0.0867],\n",
       "        [ 0.1124, -0.0836,  0.0959, -0.0092,  0.1258, -0.0441,  0.0549, -0.0450,\n",
       "          0.0396,  0.0862],\n",
       "        [ 0.1388, -0.0452,  0.0825, -0.0287,  0.0690, -0.0292,  0.0067, -0.0339,\n",
       "          0.0866,  0.0785],\n",
       "        [ 0.1361, -0.0498,  0.0672,  0.0171,  0.1214, -0.0293,  0.0331, -0.0463,\n",
       "          0.0707,  0.0653],\n",
       "        [ 0.1406, -0.0680,  0.1172,  0.0043,  0.1008, -0.0912,  0.0122, -0.0854,\n",
       "          0.0217,  0.0909],\n",
       "        [ 0.1590, -0.0340,  0.0927,  0.0554,  0.0900, -0.0547, -0.0032, -0.0509,\n",
       "          0.0515,  0.1122],\n",
       "        [ 0.1317, -0.0568,  0.1040, -0.0208,  0.0866, -0.0798,  0.0647, -0.0944,\n",
       "          0.0699,  0.1010],\n",
       "        [ 0.1327, -0.0360,  0.1129,  0.0141,  0.0716, -0.0777,  0.0268, -0.0251,\n",
       "          0.0752,  0.0994],\n",
       "        [ 0.1290, -0.0791,  0.1140,  0.0145,  0.0945, -0.0639,  0.0053, -0.0472,\n",
       "          0.0607,  0.0758],\n",
       "        [ 0.1287, -0.0733,  0.0740,  0.0188,  0.1151, -0.0504,  0.0208, -0.0687,\n",
       "          0.0465,  0.0774],\n",
       "        [ 0.1518, -0.0557,  0.0465,  0.0382,  0.1098, -0.0329, -0.0028, -0.0696,\n",
       "          0.0734,  0.0793],\n",
       "        [ 0.1773, -0.0405,  0.0631,  0.0414,  0.0858, -0.0422,  0.0162, -0.0490,\n",
       "          0.0722,  0.0784],\n",
       "        [ 0.1426, -0.0799,  0.0619,  0.0242,  0.1046, -0.0152,  0.0022, -0.0170,\n",
       "          0.0564,  0.1044],\n",
       "        [ 0.2026, -0.0493,  0.0568,  0.0227,  0.1230, -0.0328,  0.0484, -0.0579,\n",
       "          0.0829,  0.0799],\n",
       "        [ 0.1371, -0.0786,  0.0639, -0.0160,  0.1135, -0.0446,  0.0305, -0.0369,\n",
       "          0.0462,  0.0682],\n",
       "        [ 0.1497, -0.0376,  0.0420,  0.0147,  0.1242,  0.0017,  0.0518, -0.0589,\n",
       "          0.0689,  0.0748],\n",
       "        [ 0.1514, -0.0343,  0.0905,  0.0007,  0.0960, -0.1214, -0.0020, -0.0410,\n",
       "          0.0655,  0.0911],\n",
       "        [ 0.1611, -0.0552,  0.0878,  0.0023,  0.0914, -0.0606,  0.0118, -0.0536,\n",
       "          0.0551,  0.0990],\n",
       "        [ 0.1260, -0.0350,  0.0733, -0.0019,  0.0910, -0.0750,  0.0364, -0.0192,\n",
       "          0.0508,  0.0624],\n",
       "        [ 0.1204, -0.0524,  0.0847,  0.0037,  0.0791, -0.0637,  0.0070, -0.0241,\n",
       "          0.0626,  0.1143],\n",
       "        [ 0.1519, -0.0908,  0.0685,  0.0235,  0.1179, -0.0527,  0.0417, -0.0311,\n",
       "          0.0614,  0.0800],\n",
       "        [ 0.1637, -0.0473,  0.0643,  0.0113,  0.0461, -0.0457,  0.0322, -0.0617,\n",
       "          0.0634,  0.0934],\n",
       "        [ 0.1436, -0.0693,  0.1201,  0.0009,  0.1072, -0.0628,  0.0459, -0.0689,\n",
       "          0.0277,  0.1035],\n",
       "        [ 0.1665, -0.0267,  0.0507,  0.0080,  0.1377, -0.0318,  0.0381, -0.0504,\n",
       "          0.0771,  0.0933],\n",
       "        [ 0.1476, -0.0298,  0.0565,  0.0115,  0.0906, -0.0261,  0.0191, -0.0467,\n",
       "          0.0693,  0.0795],\n",
       "        [ 0.1672, -0.0580,  0.0774,  0.0023,  0.0970, -0.0384,  0.0140, -0.0314,\n",
       "          0.0702,  0.0867],\n",
       "        [ 0.1056, -0.0211,  0.0807,  0.0089,  0.0676, -0.0634,  0.0141, -0.0396,\n",
       "          0.0725,  0.0964],\n",
       "        [ 0.1701, -0.0338,  0.0602,  0.0191,  0.0810, -0.0566,  0.0223, -0.0504,\n",
       "          0.0841,  0.1028],\n",
       "        [ 0.1401, -0.0599,  0.0916, -0.0123,  0.1071, -0.0537,  0.0672, -0.0823,\n",
       "          0.0462,  0.0622],\n",
       "        [ 0.1595, -0.0287,  0.0702,  0.0139,  0.1167, -0.0481, -0.0039, -0.0677,\n",
       "          0.0924,  0.1030],\n",
       "        [ 0.1420, -0.0626,  0.0784,  0.0100,  0.1055, -0.0600,  0.0215, -0.0326,\n",
       "          0.0622,  0.1074],\n",
       "        [ 0.1611, -0.0628,  0.0937,  0.0080,  0.0952, -0.0466,  0.0245, -0.0750,\n",
       "          0.0823,  0.0994],\n",
       "        [ 0.1113, -0.0469,  0.0674, -0.0273,  0.0755, -0.0681,  0.0679, -0.1087,\n",
       "          0.0829,  0.0691],\n",
       "        [ 0.1430, -0.0353,  0.0722, -0.0208,  0.1018, -0.0324,  0.0098, -0.0558,\n",
       "          0.0964,  0.0779],\n",
       "        [ 0.1609, -0.0435,  0.0848, -0.0156,  0.1106, -0.0679,  0.0526, -0.0819,\n",
       "          0.0678,  0.0926],\n",
       "        [ 0.1421, -0.0539,  0.0963,  0.0156,  0.0378, -0.0733,  0.0285, -0.0621,\n",
       "          0.0626,  0.1241],\n",
       "        [ 0.1546, -0.0874,  0.0828,  0.0056,  0.1043, -0.0583,  0.0065, -0.0499,\n",
       "          0.0419,  0.0944],\n",
       "        [ 0.1477, -0.0762,  0.0789, -0.0313,  0.0858, -0.0523,  0.0391, -0.0772,\n",
       "          0.0665,  0.0768],\n",
       "        [ 0.1309, -0.0389,  0.0978,  0.0002,  0.1019, -0.0319,  0.0549, -0.0610,\n",
       "          0.0961,  0.1000],\n",
       "        [ 0.1501, -0.0510,  0.0888,  0.0086,  0.1176, -0.0802,  0.0189, -0.0690,\n",
       "          0.0808,  0.0863],\n",
       "        [ 0.1519, -0.0604,  0.0635, -0.0076,  0.1093, -0.0340,  0.0333, -0.0490,\n",
       "          0.0547,  0.0872],\n",
       "        [ 0.1570, -0.0252,  0.0793, -0.0009,  0.0998, -0.0410,  0.0285, -0.0846,\n",
       "          0.0870,  0.0641],\n",
       "        [ 0.1552, -0.0660,  0.0885, -0.0244,  0.0860, -0.0209,  0.0318, -0.0257,\n",
       "          0.0440,  0.0921],\n",
       "        [ 0.1379, -0.0794,  0.1078,  0.0230,  0.0868, -0.0627,  0.0249, -0.0314,\n",
       "          0.0299,  0.0783],\n",
       "        [ 0.1586, -0.0590,  0.1007,  0.0114,  0.0915, -0.0501,  0.0197, -0.0628,\n",
       "          0.0527,  0.0960],\n",
       "        [ 0.1291, -0.0463,  0.0500,  0.0084,  0.0793, -0.0517, -0.0069, -0.0249,\n",
       "          0.0601,  0.0961],\n",
       "        [ 0.1428, -0.0911,  0.0767,  0.0077,  0.0652, -0.0555,  0.0186, -0.0492,\n",
       "          0.0675,  0.1117],\n",
       "        [ 0.1331, -0.0436,  0.0788,  0.0266,  0.1217, -0.0544,  0.0150, -0.0113,\n",
       "          0.0407,  0.0810],\n",
       "        [ 0.1665, -0.0376,  0.0697,  0.0009,  0.0800, -0.0526,  0.0484, -0.0533,\n",
       "          0.0690,  0.1010],\n",
       "        [ 0.1553, -0.0357,  0.0739, -0.0268,  0.0849, -0.0716,  0.0171, -0.0593,\n",
       "          0.0694,  0.0804],\n",
       "        [ 0.1081, -0.0594,  0.0798,  0.0388,  0.0880, -0.0738,  0.0018, -0.0313,\n",
       "          0.0454,  0.0950],\n",
       "        [ 0.1236, -0.0459,  0.0746, -0.0039,  0.1055, -0.0571,  0.0292, -0.0504,\n",
       "          0.0685,  0.0562],\n",
       "        [ 0.1638, -0.0735,  0.0781,  0.0110,  0.0926, -0.0482,  0.0199, -0.0336,\n",
       "          0.0642,  0.0765],\n",
       "        [ 0.1583, -0.0537,  0.0574,  0.0398,  0.0784, -0.0281,  0.0402, -0.0413,\n",
       "          0.0446,  0.0810],\n",
       "        [ 0.1195, -0.0161,  0.1238,  0.0262,  0.0607, -0.1035, -0.0086, -0.0711,\n",
       "          0.0173,  0.0986],\n",
       "        [ 0.1255, -0.0721,  0.0751,  0.0049,  0.1054, -0.0773,  0.0434, -0.0566,\n",
       "          0.0596,  0.0996],\n",
       "        [ 0.1652, -0.0558,  0.0810, -0.0379,  0.0919, -0.0486,  0.0289, -0.0908,\n",
       "          0.1000,  0.0919],\n",
       "        [ 0.1647, -0.0778,  0.0603,  0.0042,  0.1071, -0.0597,  0.0529, -0.0301,\n",
       "          0.0791,  0.0910],\n",
       "        [ 0.1608, -0.0462,  0.0705,  0.0371,  0.1025, -0.0427,  0.0434, -0.0545,\n",
       "          0.0735,  0.1074],\n",
       "        [ 0.1188, -0.0714,  0.0891,  0.0121,  0.1285, -0.0508, -0.0022, -0.0454,\n",
       "          0.0758,  0.0903],\n",
       "        [ 0.1655, -0.0420,  0.0778,  0.0028,  0.0960, -0.0733,  0.0245, -0.0204,\n",
       "          0.0437,  0.0889],\n",
       "        [ 0.1402, -0.0306,  0.0972, -0.0190,  0.0393, -0.0808,  0.0060, -0.0730,\n",
       "          0.0755,  0.1042],\n",
       "        [ 0.1723, -0.0356,  0.0789,  0.0012,  0.0552, -0.0762,  0.0087, -0.0576,\n",
       "          0.0435,  0.0666],\n",
       "        [ 0.1614, -0.0670,  0.0773, -0.0008,  0.1188, -0.1026,  0.0620, -0.0427,\n",
       "          0.0601,  0.0859]], grad_fn=<AddmmBackward0>)"
      ]
     },
     "execution_count": 8,
     "metadata": {},
     "output_type": "execute_result"
    }
   ],
   "source": [
    "model(tmp)"
   ]
  },
  {
   "cell_type": "code",
   "execution_count": 9,
   "id": "39fc78dd",
   "metadata": {},
   "outputs": [
    {
     "data": {
      "text/plain": [
       "torch.Size([64, 3072])"
      ]
     },
     "execution_count": 9,
     "metadata": {},
     "output_type": "execute_result"
    }
   ],
   "source": [
    "fla=Flatten()\n",
    "tmp=torch.ones((64,3,32,32))\n",
    "fla(tmp).shape"
   ]
  },
  {
   "cell_type": "code",
   "execution_count": 10,
   "id": "91df696c",
   "metadata": {},
   "outputs": [],
   "source": [
    "from torch.utils.tensorboard import SummaryWriter\n",
    "\n",
    "writer=SummaryWriter('log4')\n",
    "writer.add_graph(model,tmp)"
   ]
  },
  {
   "cell_type": "code",
   "execution_count": 11,
   "id": "57e28a6f",
   "metadata": {},
   "outputs": [],
   "source": [
    "from torchvision import datasets,transforms\n",
    "\n",
    "datas=datasets.CIFAR10(root='./datasets',transform=transforms.ToTensor(),train=True,download=True)"
   ]
  },
  {
   "cell_type": "code",
   "execution_count": 12,
   "id": "1e1db23e",
   "metadata": {},
   "outputs": [
    {
     "name": "stdout",
     "output_type": "stream",
     "text": [
      "tensor(3173.4998, grad_fn=<AddBackward0>)\n",
      "tensor(2537.4155, grad_fn=<AddBackward0>)\n",
      "tensor(2301.5464, grad_fn=<AddBackward0>)\n",
      "tensor(2110.6350, grad_fn=<AddBackward0>)\n",
      "tensor(1932.5647, grad_fn=<AddBackward0>)\n",
      "tensor(1781.5641, grad_fn=<AddBackward0>)\n",
      "tensor(1665.1503, grad_fn=<AddBackward0>)\n",
      "tensor(1573.3480, grad_fn=<AddBackward0>)\n",
      "tensor(1494.9305, grad_fn=<AddBackward0>)\n",
      "tensor(1424.8313, grad_fn=<AddBackward0>)\n",
      "tensor(1361.6718, grad_fn=<AddBackward0>)\n",
      "tensor(1302.5480, grad_fn=<AddBackward0>)\n"
     ]
    },
    {
     "ename": "KeyboardInterrupt",
     "evalue": "",
     "output_type": "error",
     "traceback": [
      "\u001b[1;31m---------------------------------------------------------------------------\u001b[0m",
      "\u001b[1;31mKeyboardInterrupt\u001b[0m                         Traceback (most recent call last)",
      "Cell \u001b[1;32mIn[12], line 10\u001b[0m\n\u001b[0;32m      8\u001b[0m \u001b[38;5;28;01mfor\u001b[39;00m epoch \u001b[38;5;129;01min\u001b[39;00m \u001b[38;5;28mrange\u001b[39m(\u001b[38;5;241m20\u001b[39m):\n\u001b[0;32m      9\u001b[0m     run_loss\u001b[38;5;241m=\u001b[39m\u001b[38;5;241m0\u001b[39m\n\u001b[1;32m---> 10\u001b[0m     \u001b[38;5;28;01mfor\u001b[39;00m data \u001b[38;5;129;01min\u001b[39;00m loader:\n\u001b[0;32m     11\u001b[0m         optimizer\u001b[38;5;241m.\u001b[39mzero_grad()\n\u001b[0;32m     12\u001b[0m         imgs,labels\u001b[38;5;241m=\u001b[39mdata\n",
      "File \u001b[1;32me:\\Anaconda\\envs\\deeplearning\\lib\\site-packages\\torch\\utils\\data\\dataloader.py:732\u001b[0m, in \u001b[0;36m_BaseDataLoaderIter.__next__\u001b[1;34m(self)\u001b[0m\n\u001b[0;32m    729\u001b[0m \u001b[38;5;28;01mif\u001b[39;00m \u001b[38;5;28mself\u001b[39m\u001b[38;5;241m.\u001b[39m_sampler_iter \u001b[38;5;129;01mis\u001b[39;00m \u001b[38;5;28;01mNone\u001b[39;00m:\n\u001b[0;32m    730\u001b[0m     \u001b[38;5;66;03m# TODO(https://github.com/pytorch/pytorch/issues/76750)\u001b[39;00m\n\u001b[0;32m    731\u001b[0m     \u001b[38;5;28mself\u001b[39m\u001b[38;5;241m.\u001b[39m_reset()  \u001b[38;5;66;03m# type: ignore[call-arg]\u001b[39;00m\n\u001b[1;32m--> 732\u001b[0m data \u001b[38;5;241m=\u001b[39m \u001b[38;5;28;43mself\u001b[39;49m\u001b[38;5;241;43m.\u001b[39;49m\u001b[43m_next_data\u001b[49m\u001b[43m(\u001b[49m\u001b[43m)\u001b[49m\n\u001b[0;32m    733\u001b[0m \u001b[38;5;28mself\u001b[39m\u001b[38;5;241m.\u001b[39m_num_yielded \u001b[38;5;241m+\u001b[39m\u001b[38;5;241m=\u001b[39m \u001b[38;5;241m1\u001b[39m\n\u001b[0;32m    734\u001b[0m \u001b[38;5;28;01mif\u001b[39;00m (\n\u001b[0;32m    735\u001b[0m     \u001b[38;5;28mself\u001b[39m\u001b[38;5;241m.\u001b[39m_dataset_kind \u001b[38;5;241m==\u001b[39m _DatasetKind\u001b[38;5;241m.\u001b[39mIterable\n\u001b[0;32m    736\u001b[0m     \u001b[38;5;129;01mand\u001b[39;00m \u001b[38;5;28mself\u001b[39m\u001b[38;5;241m.\u001b[39m_IterableDataset_len_called \u001b[38;5;129;01mis\u001b[39;00m \u001b[38;5;129;01mnot\u001b[39;00m \u001b[38;5;28;01mNone\u001b[39;00m\n\u001b[0;32m    737\u001b[0m     \u001b[38;5;129;01mand\u001b[39;00m \u001b[38;5;28mself\u001b[39m\u001b[38;5;241m.\u001b[39m_num_yielded \u001b[38;5;241m>\u001b[39m \u001b[38;5;28mself\u001b[39m\u001b[38;5;241m.\u001b[39m_IterableDataset_len_called\n\u001b[0;32m    738\u001b[0m ):\n",
      "File \u001b[1;32me:\\Anaconda\\envs\\deeplearning\\lib\\site-packages\\torch\\utils\\data\\dataloader.py:788\u001b[0m, in \u001b[0;36m_SingleProcessDataLoaderIter._next_data\u001b[1;34m(self)\u001b[0m\n\u001b[0;32m    786\u001b[0m \u001b[38;5;28;01mdef\u001b[39;00m\u001b[38;5;250m \u001b[39m\u001b[38;5;21m_next_data\u001b[39m(\u001b[38;5;28mself\u001b[39m):\n\u001b[0;32m    787\u001b[0m     index \u001b[38;5;241m=\u001b[39m \u001b[38;5;28mself\u001b[39m\u001b[38;5;241m.\u001b[39m_next_index()  \u001b[38;5;66;03m# may raise StopIteration\u001b[39;00m\n\u001b[1;32m--> 788\u001b[0m     data \u001b[38;5;241m=\u001b[39m \u001b[38;5;28;43mself\u001b[39;49m\u001b[38;5;241;43m.\u001b[39;49m\u001b[43m_dataset_fetcher\u001b[49m\u001b[38;5;241;43m.\u001b[39;49m\u001b[43mfetch\u001b[49m\u001b[43m(\u001b[49m\u001b[43mindex\u001b[49m\u001b[43m)\u001b[49m  \u001b[38;5;66;03m# may raise StopIteration\u001b[39;00m\n\u001b[0;32m    789\u001b[0m     \u001b[38;5;28;01mif\u001b[39;00m \u001b[38;5;28mself\u001b[39m\u001b[38;5;241m.\u001b[39m_pin_memory:\n\u001b[0;32m    790\u001b[0m         data \u001b[38;5;241m=\u001b[39m _utils\u001b[38;5;241m.\u001b[39mpin_memory\u001b[38;5;241m.\u001b[39mpin_memory(data, \u001b[38;5;28mself\u001b[39m\u001b[38;5;241m.\u001b[39m_pin_memory_device)\n",
      "File \u001b[1;32me:\\Anaconda\\envs\\deeplearning\\lib\\site-packages\\torch\\utils\\data\\_utils\\fetch.py:52\u001b[0m, in \u001b[0;36m_MapDatasetFetcher.fetch\u001b[1;34m(self, possibly_batched_index)\u001b[0m\n\u001b[0;32m     50\u001b[0m         data \u001b[38;5;241m=\u001b[39m \u001b[38;5;28mself\u001b[39m\u001b[38;5;241m.\u001b[39mdataset\u001b[38;5;241m.\u001b[39m__getitems__(possibly_batched_index)\n\u001b[0;32m     51\u001b[0m     \u001b[38;5;28;01melse\u001b[39;00m:\n\u001b[1;32m---> 52\u001b[0m         data \u001b[38;5;241m=\u001b[39m [\u001b[38;5;28mself\u001b[39m\u001b[38;5;241m.\u001b[39mdataset[idx] \u001b[38;5;28;01mfor\u001b[39;00m idx \u001b[38;5;129;01min\u001b[39;00m possibly_batched_index]\n\u001b[0;32m     53\u001b[0m \u001b[38;5;28;01melse\u001b[39;00m:\n\u001b[0;32m     54\u001b[0m     data \u001b[38;5;241m=\u001b[39m \u001b[38;5;28mself\u001b[39m\u001b[38;5;241m.\u001b[39mdataset[possibly_batched_index]\n",
      "File \u001b[1;32me:\\Anaconda\\envs\\deeplearning\\lib\\site-packages\\torch\\utils\\data\\_utils\\fetch.py:52\u001b[0m, in \u001b[0;36m<listcomp>\u001b[1;34m(.0)\u001b[0m\n\u001b[0;32m     50\u001b[0m         data \u001b[38;5;241m=\u001b[39m \u001b[38;5;28mself\u001b[39m\u001b[38;5;241m.\u001b[39mdataset\u001b[38;5;241m.\u001b[39m__getitems__(possibly_batched_index)\n\u001b[0;32m     51\u001b[0m     \u001b[38;5;28;01melse\u001b[39;00m:\n\u001b[1;32m---> 52\u001b[0m         data \u001b[38;5;241m=\u001b[39m [\u001b[38;5;28;43mself\u001b[39;49m\u001b[38;5;241;43m.\u001b[39;49m\u001b[43mdataset\u001b[49m\u001b[43m[\u001b[49m\u001b[43midx\u001b[49m\u001b[43m]\u001b[49m \u001b[38;5;28;01mfor\u001b[39;00m idx \u001b[38;5;129;01min\u001b[39;00m possibly_batched_index]\n\u001b[0;32m     53\u001b[0m \u001b[38;5;28;01melse\u001b[39;00m:\n\u001b[0;32m     54\u001b[0m     data \u001b[38;5;241m=\u001b[39m \u001b[38;5;28mself\u001b[39m\u001b[38;5;241m.\u001b[39mdataset[possibly_batched_index]\n",
      "File \u001b[1;32me:\\Anaconda\\envs\\deeplearning\\lib\\site-packages\\torchvision\\datasets\\cifar.py:119\u001b[0m, in \u001b[0;36mCIFAR10.__getitem__\u001b[1;34m(self, index)\u001b[0m\n\u001b[0;32m    116\u001b[0m img \u001b[38;5;241m=\u001b[39m Image\u001b[38;5;241m.\u001b[39mfromarray(img)\n\u001b[0;32m    118\u001b[0m \u001b[38;5;28;01mif\u001b[39;00m \u001b[38;5;28mself\u001b[39m\u001b[38;5;241m.\u001b[39mtransform \u001b[38;5;129;01mis\u001b[39;00m \u001b[38;5;129;01mnot\u001b[39;00m \u001b[38;5;28;01mNone\u001b[39;00m:\n\u001b[1;32m--> 119\u001b[0m     img \u001b[38;5;241m=\u001b[39m \u001b[38;5;28;43mself\u001b[39;49m\u001b[38;5;241;43m.\u001b[39;49m\u001b[43mtransform\u001b[49m\u001b[43m(\u001b[49m\u001b[43mimg\u001b[49m\u001b[43m)\u001b[49m\n\u001b[0;32m    121\u001b[0m \u001b[38;5;28;01mif\u001b[39;00m \u001b[38;5;28mself\u001b[39m\u001b[38;5;241m.\u001b[39mtarget_transform \u001b[38;5;129;01mis\u001b[39;00m \u001b[38;5;129;01mnot\u001b[39;00m \u001b[38;5;28;01mNone\u001b[39;00m:\n\u001b[0;32m    122\u001b[0m     target \u001b[38;5;241m=\u001b[39m \u001b[38;5;28mself\u001b[39m\u001b[38;5;241m.\u001b[39mtarget_transform(target)\n",
      "File \u001b[1;32me:\\Anaconda\\envs\\deeplearning\\lib\\site-packages\\torchvision\\transforms\\transforms.py:137\u001b[0m, in \u001b[0;36mToTensor.__call__\u001b[1;34m(self, pic)\u001b[0m\n\u001b[0;32m    129\u001b[0m \u001b[38;5;28;01mdef\u001b[39;00m\u001b[38;5;250m \u001b[39m\u001b[38;5;21m__call__\u001b[39m(\u001b[38;5;28mself\u001b[39m, pic):\n\u001b[0;32m    130\u001b[0m \u001b[38;5;250m    \u001b[39m\u001b[38;5;124;03m\"\"\"\u001b[39;00m\n\u001b[0;32m    131\u001b[0m \u001b[38;5;124;03m    Args:\u001b[39;00m\n\u001b[0;32m    132\u001b[0m \u001b[38;5;124;03m        pic (PIL Image or numpy.ndarray): Image to be converted to tensor.\u001b[39;00m\n\u001b[1;32m   (...)\u001b[0m\n\u001b[0;32m    135\u001b[0m \u001b[38;5;124;03m        Tensor: Converted image.\u001b[39;00m\n\u001b[0;32m    136\u001b[0m \u001b[38;5;124;03m    \"\"\"\u001b[39;00m\n\u001b[1;32m--> 137\u001b[0m     \u001b[38;5;28;01mreturn\u001b[39;00m \u001b[43mF\u001b[49m\u001b[38;5;241;43m.\u001b[39;49m\u001b[43mto_tensor\u001b[49m\u001b[43m(\u001b[49m\u001b[43mpic\u001b[49m\u001b[43m)\u001b[49m\n",
      "File \u001b[1;32me:\\Anaconda\\envs\\deeplearning\\lib\\site-packages\\torchvision\\transforms\\functional.py:172\u001b[0m, in \u001b[0;36mto_tensor\u001b[1;34m(pic)\u001b[0m\n\u001b[0;32m    170\u001b[0m \u001b[38;5;28;01mif\u001b[39;00m pic\u001b[38;5;241m.\u001b[39mmode \u001b[38;5;241m==\u001b[39m \u001b[38;5;124m\"\u001b[39m\u001b[38;5;124m1\u001b[39m\u001b[38;5;124m\"\u001b[39m:\n\u001b[0;32m    171\u001b[0m     img \u001b[38;5;241m=\u001b[39m \u001b[38;5;241m255\u001b[39m \u001b[38;5;241m*\u001b[39m img\n\u001b[1;32m--> 172\u001b[0m img \u001b[38;5;241m=\u001b[39m \u001b[43mimg\u001b[49m\u001b[38;5;241;43m.\u001b[39;49m\u001b[43mview\u001b[49m\u001b[43m(\u001b[49m\u001b[43mpic\u001b[49m\u001b[38;5;241;43m.\u001b[39;49m\u001b[43msize\u001b[49m\u001b[43m[\u001b[49m\u001b[38;5;241;43m1\u001b[39;49m\u001b[43m]\u001b[49m\u001b[43m,\u001b[49m\u001b[43m \u001b[49m\u001b[43mpic\u001b[49m\u001b[38;5;241;43m.\u001b[39;49m\u001b[43msize\u001b[49m\u001b[43m[\u001b[49m\u001b[38;5;241;43m0\u001b[39;49m\u001b[43m]\u001b[49m\u001b[43m,\u001b[49m\u001b[43m \u001b[49m\u001b[43mF_pil\u001b[49m\u001b[38;5;241;43m.\u001b[39;49m\u001b[43mget_image_num_channels\u001b[49m\u001b[43m(\u001b[49m\u001b[43mpic\u001b[49m\u001b[43m)\u001b[49m\u001b[43m)\u001b[49m\n\u001b[0;32m    173\u001b[0m \u001b[38;5;66;03m# put it from HWC to CHW format\u001b[39;00m\n\u001b[0;32m    174\u001b[0m img \u001b[38;5;241m=\u001b[39m img\u001b[38;5;241m.\u001b[39mpermute((\u001b[38;5;241m2\u001b[39m, \u001b[38;5;241m0\u001b[39m, \u001b[38;5;241m1\u001b[39m))\u001b[38;5;241m.\u001b[39mcontiguous()\n",
      "\u001b[1;31mKeyboardInterrupt\u001b[0m: "
     ]
    }
   ],
   "source": [
    "from torch.utils.data import DataLoader\n",
    "from torch import optim\n",
    "\n",
    "loader=DataLoader(datas,batch_size=32)\n",
    "loss=nn.CrossEntropyLoss()\n",
    "optimizer=optim.SGD(model.parameters(),lr=0.01)\n",
    "\n",
    "for epoch in range(20):\n",
    "    run_loss=0\n",
    "    for data in loader:\n",
    "        optimizer.zero_grad()\n",
    "        imgs,labels=data\n",
    "        out=model(imgs)    \n",
    "        res_loss=loss(out,labels)\n",
    "        res_loss.backward()\n",
    "        optimizer.step()\n",
    "        run_loss+=res_loss\n",
    "    print(run_loss)"
   ]
  },
  {
   "cell_type": "code",
   "execution_count": null,
   "id": "89f5243f",
   "metadata": {},
   "outputs": [],
   "source": []
  }
 ],
 "metadata": {
  "kernelspec": {
   "display_name": "deeplearning",
   "language": "python",
   "name": "python3"
  },
  "language_info": {
   "codemirror_mode": {
    "name": "ipython",
    "version": 3
   },
   "file_extension": ".py",
   "mimetype": "text/x-python",
   "name": "python",
   "nbconvert_exporter": "python",
   "pygments_lexer": "ipython3",
   "version": "3.10.18"
  }
 },
 "nbformat": 4,
 "nbformat_minor": 5
}
