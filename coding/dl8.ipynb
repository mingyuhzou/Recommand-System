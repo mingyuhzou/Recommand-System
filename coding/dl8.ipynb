{
 "cells": [
  {
   "cell_type": "code",
   "id": "initial_id",
   "metadata": {
    "collapsed": true,
    "ExecuteTime": {
     "end_time": "2025-10-25T09:15:37.134810Z",
     "start_time": "2025-10-25T09:15:37.115098Z"
    }
   },
   "source": [
    "import torch\n",
    "import torchvision\n",
    "from torch.utils.data import Dataset,DataLoader\n",
    "import torch.nn as nn\n",
    "from torch.utils.tensorboard import SummaryWriter\n",
    "from torchvision import transforms"
   ],
   "outputs": [],
   "execution_count": 10
  },
  {
   "metadata": {
    "ExecuteTime": {
     "end_time": "2025-10-25T09:15:39.692643Z",
     "start_time": "2025-10-25T09:15:37.145016Z"
    }
   },
   "cell_type": "code",
   "source": [
    "train_data=torchvision.datasets.CIFAR10(root='./datasets',train=True,download=True,transform=transforms.ToTensor())\n",
    "test_data=torchvision.datasets.CIFAR10(root='./datasets',train=False,download=True,transform=transforms.ToTensor())"
   ],
   "id": "567aae98176e1d19",
   "outputs": [],
   "execution_count": 11
  },
  {
   "metadata": {
    "ExecuteTime": {
     "end_time": "2025-10-25T09:15:39.807094Z",
     "start_time": "2025-10-25T09:15:39.786973Z"
    }
   },
   "cell_type": "code",
   "source": "len(train_data),len(test_data)",
   "id": "529b9b36e97da9f4",
   "outputs": [
    {
     "data": {
      "text/plain": [
       "(50000, 10000)"
      ]
     },
     "execution_count": 12,
     "metadata": {},
     "output_type": "execute_result"
    }
   ],
   "execution_count": 12
  },
  {
   "metadata": {
    "ExecuteTime": {
     "end_time": "2025-10-25T09:15:39.827609Z",
     "start_time": "2025-10-25T09:15:39.817191Z"
    }
   },
   "cell_type": "code",
   "source": [
    "class myModel(nn.Module):\n",
    "    def __init__(self):\n",
    "        super().__init__()\n",
    "        self.model=nn.Sequential(\n",
    "        nn.Conv2d(3,32,5,padding=2),\n",
    "        nn.MaxPool2d(2),\n",
    "        nn.Conv2d(32,32,5,padding=2),\n",
    "        nn.MaxPool2d(2),\n",
    "        nn.Conv2d(32,64,5,padding=2),\n",
    "        nn.MaxPool2d(2),\n",
    "        nn.Flatten(),\n",
    "        nn.Linear(1024,64),\n",
    "        nn.Linear(64,10))\n",
    "    def forward(self,x):\n",
    "        return self.model(x)"
   ],
   "id": "6e97f1d6e7e070fa",
   "outputs": [],
   "execution_count": 13
  },
  {
   "metadata": {
    "ExecuteTime": {
     "end_time": "2025-10-25T09:15:39.881893Z",
     "start_time": "2025-10-25T09:15:39.862046Z"
    }
   },
   "cell_type": "code",
   "source": [
    "train_data_loader=DataLoader(train_data,batch_size=64,shuffle=True)\n",
    "test_data_loader=DataLoader(test_data,batch_size=64,shuffle=True)"
   ],
   "id": "49e4ac5b375ff9ab",
   "outputs": [],
   "execution_count": 14
  },
  {
   "metadata": {
    "ExecuteTime": {
     "end_time": "2025-10-25T09:15:39.911903Z",
     "start_time": "2025-10-25T09:15:39.893766Z"
    }
   },
   "cell_type": "code",
   "source": [
    "model=myModel()\n",
    "loss_fn=nn.CrossEntropyLoss()\n",
    "learning_rate=1e-2\n",
    "epoch=10\n",
    "optimizer=torch.optim.SGD(model.parameters(),lr=learning_rate)"
   ],
   "id": "3ec822e9d10651a2",
   "outputs": [],
   "execution_count": 15
  },
  {
   "metadata": {
    "ExecuteTime": {
     "end_time": "2025-10-25T09:15:39.936217Z",
     "start_time": "2025-10-25T09:15:39.916102Z"
    }
   },
   "cell_type": "code",
   "source": [
    "total_train_times=0\n",
    "total_test_times=0"
   ],
   "id": "52f0bf99055065ed",
   "outputs": [],
   "execution_count": 16
  },
  {
   "metadata": {
    "ExecuteTime": {
     "end_time": "2025-10-25T09:15:39.973351Z",
     "start_time": "2025-10-25T09:15:39.942979Z"
    }
   },
   "cell_type": "code",
   "source": "writer=SummaryWriter('log8')",
   "id": "742ae2f83b6e181d",
   "outputs": [],
   "execution_count": 17
  },
  {
   "metadata": {
    "jupyter": {
     "is_executing": true
    },
    "ExecuteTime": {
     "start_time": "2025-10-25T09:15:39.983413Z"
    }
   },
   "cell_type": "code",
   "source": [
    "for i in range(1,epoch+1):\n",
    "    print(f'-------------epoch:{i} begining---------------')\n",
    "    for data in train_data_loader:\n",
    "        imgs,labels=data\n",
    "        outputs=model(imgs)\n",
    "        loss=loss_fn(outputs,labels)\n",
    "        optimizer.zero_grad()\n",
    "        loss.backward()\n",
    "        optimizer.step()\n",
    "        total_train_times+=1\n",
    "        if total_train_times%100==0:\n",
    "            print('total_train_times:',total_train_times,'total_loss:',loss)\n",
    "    total_loss=0\n",
    "    with torch.no_grad():\n",
    "        for data in test_data_loader:\n",
    "            imgs,labels=data\n",
    "            outputs=model(imgs)\n",
    "            loss=loss_fn(outputs,labels)\n",
    "            total_loss+=loss\n",
    "    total_test_times+=1\n",
    "    print('total_loss:',total_loss)\n",
    "    writer.add_scalar('test_loss',total_loss,total_train_times)"
   ],
   "id": "1a3897882ddc2303",
   "outputs": [
    {
     "name": "stdout",
     "output_type": "stream",
     "text": [
      "-------------epoch:1 begining---------------\n",
      "total_train_times: 100 total_loss: tensor(2.2936, grad_fn=<NllLossBackward0>)\n",
      "total_train_times: 200 total_loss: tensor(2.2707, grad_fn=<NllLossBackward0>)\n",
      "total_train_times: 300 total_loss: tensor(2.2235, grad_fn=<NllLossBackward0>)\n"
     ]
    }
   ],
   "execution_count": null
  },
  {
   "metadata": {
    "ExecuteTime": {
     "end_time": "2025-10-25T08:27:58.297062Z",
     "start_time": "2025-10-25T08:27:58.280975Z"
    }
   },
   "cell_type": "code",
   "source": "",
   "id": "5414b223e5ae669f",
   "outputs": [],
   "execution_count": null
  }
 ],
 "metadata": {
  "kernelspec": {
   "display_name": "Python 3",
   "language": "python",
   "name": "python3"
  },
  "language_info": {
   "codemirror_mode": {
    "name": "ipython",
    "version": 2
   },
   "file_extension": ".py",
   "mimetype": "text/x-python",
   "name": "python",
   "nbconvert_exporter": "python",
   "pygments_lexer": "ipython2",
   "version": "2.7.6"
  }
 },
 "nbformat": 4,
 "nbformat_minor": 5
}
