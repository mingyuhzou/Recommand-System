{
 "cells": [
  {
   "cell_type": "code",
   "id": "initial_id",
   "metadata": {
    "collapsed": true,
    "ExecuteTime": {
     "end_time": "2025-10-31T07:23:00.272301Z",
     "start_time": "2025-10-31T07:23:00.260690Z"
    }
   },
   "source": [
    "import torch\n",
    "import torch.nn as nn"
   ],
   "outputs": [],
   "execution_count": 3
  },
  {
   "metadata": {},
   "cell_type": "code",
   "outputs": [],
   "execution_count": null,
   "source": [
    "class FM(nn.Module):\n",
    "    def __init__(self,num_features,num_factors):\n",
    "        super(FM, self).__init__()\n",
    "        self.linear=nn.Linear(num_features,1)\n",
    "        self.v=nn.Parameter(torch.randn(num_features,num_factors))\n",
    "    def forward(self,x):\n",
    "        linear_part=self.linear(x)\n",
    "        interaction_part=0.5*torch.sum(torch.pow(torch.mm(x,self.v),2)-torch.mm(torch.pow(x,2),torch.pow(self.v,2)),dim=1,keepdim=True)\n",
    "        return linear_part+interaction_part"
   ],
   "id": "1bb30ff1774ff7c8"
  },
  {
   "metadata": {},
   "cell_type": "code",
   "outputs": [],
   "execution_count": null,
   "source": [
    "import tensorflow as tf\n",
    "from tensorflow.keras import layers,Model,initializers\n",
    "\n",
    "class FM(Model):\n",
    "    def __init__(self,num_features,num_factors):\n",
    "        super(FM,self).__init__()\n",
    "        self.linear=layers.Dense(1,use_bias=True)\n",
    "\n",
    "        self.v=tf.Variable(\n",
    "            initial_value=initializers.GlorotNormal()(shape=(num_features,num_factors)),\n",
    "            trainable=True,\n",
    "            dtype=tf.float32,\n",
    "        )\n",
    "    def call(self,x):\n",
    "        linear_part=self.linear(x)\n",
    "\n",
    "        xv=tf.matmul(x,self.v)\n",
    "        xv2=tf.square(xv)\n",
    "\n",
    "        x_square=tf.square(x)\n",
    "        v_square=tf.square(self.v)\n",
    "        xv_square_sum=tf.matmul(x_square,v_square)\n",
    "\n",
    "        interaction_part=0.5*tf.reduce_sum(xv2-xv_square_sum,axis=1,keepdims=True)\n",
    "        return linear_part+interaction_part\n",
    "\n"
   ],
   "id": "91e002f287f8dbc6"
  }
 ],
 "metadata": {
  "kernelspec": {
   "display_name": "Python 3",
   "language": "python",
   "name": "python3"
  },
  "language_info": {
   "codemirror_mode": {
    "name": "ipython",
    "version": 2
   },
   "file_extension": ".py",
   "mimetype": "text/x-python",
   "name": "python",
   "nbconvert_exporter": "python",
   "pygments_lexer": "ipython2",
   "version": "2.7.6"
  }
 },
 "nbformat": 4,
 "nbformat_minor": 5
}
