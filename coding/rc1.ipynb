{
 "cells": [
  {
   "cell_type": "code",
   "id": "initial_id",
   "metadata": {
    "collapsed": true,
    "ExecuteTime": {
     "end_time": "2025-10-29T06:52:46.849197Z",
     "start_time": "2025-10-29T06:52:46.832658Z"
    }
   },
   "source": [
    "import tensorflow as tf\n",
    "import tensorflow.keras as keras"
   ],
   "outputs": [],
   "execution_count": 2
  },
  {
   "metadata": {
    "ExecuteTime": {
     "end_time": "2025-10-29T06:54:36.439814Z",
     "start_time": "2025-10-29T06:54:36.363290Z"
    }
   },
   "cell_type": "code",
   "source": [
    "unq_categories=['music','movie','finance','game','military','history']\n",
    "id_mapping_layer=keras.layers.StringLookup(vocabulary=unq_categories)"
   ],
   "id": "7b631219b637fdb2",
   "outputs": [],
   "execution_count": 3
  },
  {
   "metadata": {
    "ExecuteTime": {
     "end_time": "2025-10-29T06:56:23.840538Z",
     "start_time": "2025-10-29T06:56:23.830774Z"
    }
   },
   "cell_type": "code",
   "source": "emb_layer=keras.layers.Embedding(input_dim=len(unq_categories)+1,output_dim=4)",
   "id": "5d26124bb7b7375a",
   "outputs": [],
   "execution_count": 10
  },
  {
   "metadata": {
    "ExecuteTime": {
     "end_time": "2025-10-29T06:58:11.505136Z",
     "start_time": "2025-10-29T06:58:11.489755Z"
    }
   },
   "cell_type": "code",
   "source": "cate_input=tf.constant(['music','movie','finance','game','military','history','None'],dtype=tf.string)",
   "id": "56c7c7e68b785951",
   "outputs": [],
   "execution_count": 12
  },
  {
   "metadata": {
    "ExecuteTime": {
     "end_time": "2025-10-29T06:58:19.465914Z",
     "start_time": "2025-10-29T06:58:19.445210Z"
    }
   },
   "cell_type": "code",
   "source": "cate_ids=id_mapping_layer(cate_input)",
   "id": "6a72a2cc83b88db3",
   "outputs": [],
   "execution_count": 13
  },
  {
   "metadata": {
    "ExecuteTime": {
     "end_time": "2025-10-29T06:58:22.536772Z",
     "start_time": "2025-10-29T06:58:22.520259Z"
    }
   },
   "cell_type": "code",
   "source": "cate_ids",
   "id": "5cc53c4967965171",
   "outputs": [
    {
     "data": {
      "text/plain": [
       "<tf.Tensor: shape=(7,), dtype=int64, numpy=array([1, 2, 3, 4, 5, 6, 0])>"
      ]
     },
     "execution_count": 14,
     "metadata": {},
     "output_type": "execute_result"
    }
   ],
   "execution_count": 14
  },
  {
   "metadata": {
    "ExecuteTime": {
     "end_time": "2025-10-29T06:58:50.767280Z",
     "start_time": "2025-10-29T06:58:50.708797Z"
    }
   },
   "cell_type": "code",
   "source": "cate_embeddings=emb_layer(cate_ids)",
   "id": "d813f1b29a5345fd",
   "outputs": [],
   "execution_count": 15
  },
  {
   "metadata": {
    "ExecuteTime": {
     "end_time": "2025-10-29T06:58:55.263811Z",
     "start_time": "2025-10-29T06:58:55.251103Z"
    }
   },
   "cell_type": "code",
   "source": "cate_embeddings",
   "id": "43b72a6c5173ee9a",
   "outputs": [
    {
     "data": {
      "text/plain": [
       "<tf.Tensor: shape=(7, 4), dtype=float32, numpy=\n",
       "array([[ 0.02345724,  0.00665563,  0.01693017, -0.03558536],\n",
       "       [-0.02148782,  0.04487641, -0.00723404,  0.02100572],\n",
       "       [ 0.04881147,  0.03616324, -0.04422485, -0.04370501],\n",
       "       [-0.04590491, -0.00100405, -0.04523338, -0.0300947 ],\n",
       "       [-0.00692356, -0.01647278,  0.01798001,  0.04414478],\n",
       "       [ 0.03040325,  0.00555838, -0.03856608,  0.03078673],\n",
       "       [-0.01715499, -0.03218298,  0.03396611,  0.00218197]],\n",
       "      dtype=float32)>"
      ]
     },
     "execution_count": 16,
     "metadata": {},
     "output_type": "execute_result"
    }
   ],
   "execution_count": 16
  },
  {
   "metadata": {},
   "cell_type": "code",
   "outputs": [],
   "execution_count": null,
   "source": "",
   "id": "cc3e79ebd6c7640c"
  }
 ],
 "metadata": {
  "kernelspec": {
   "display_name": "Python 3",
   "language": "python",
   "name": "python3"
  },
  "language_info": {
   "codemirror_mode": {
    "name": "ipython",
    "version": 2
   },
   "file_extension": ".py",
   "mimetype": "text/x-python",
   "name": "python",
   "nbconvert_exporter": "python",
   "pygments_lexer": "ipython2",
   "version": "2.7.6"
  }
 },
 "nbformat": 4,
 "nbformat_minor": 5
}
