{
 "cells": [
  {
   "cell_type": "code",
   "id": "initial_id",
   "metadata": {
    "collapsed": true,
    "ExecuteTime": {
     "end_time": "2025-10-27T08:02:59.688089Z",
     "start_time": "2025-10-27T08:02:59.681790Z"
    }
   },
   "source": [
    "import torch\n",
    "import torch.nn as nn\n",
    "from torchvision import transforms\n",
    "from torch .utils.data import DataLoader,Dataset\n",
    "import torchvision\n",
    "from win32comext.shell.shell import SHUpdateImage"
   ],
   "outputs": [],
   "execution_count": 60
  },
  {
   "metadata": {
    "ExecuteTime": {
     "end_time": "2025-10-27T08:02:59.765638Z",
     "start_time": "2025-10-27T08:02:59.697635Z"
    }
   },
   "cell_type": "code",
   "source": [
    "import os\n",
    "os.environ['TORCHVISION_DATASETS_MIRROR'] = \"https://pytorch-cn.download/data/\"\n",
    "\n",
    "train=torchvision.datasets.FashionMNIST(root='./data',train=True,transform=transforms.ToTensor(),download=True)\n",
    "test=torchvision.datasets.FashionMNIST(root='./data',train=False,transform=transforms.ToTensor(),download=True)"
   ],
   "id": "36cb0f2ef81436f0",
   "outputs": [],
   "execution_count": 61
  },
  {
   "metadata": {
    "ExecuteTime": {
     "end_time": "2025-10-27T08:02:59.796649Z",
     "start_time": "2025-10-27T08:02:59.776988Z"
    }
   },
   "cell_type": "code",
   "source": "len(train),len(test)",
   "id": "9236197f2c486e65",
   "outputs": [
    {
     "data": {
      "text/plain": [
       "(60000, 10000)"
      ]
     },
     "execution_count": 62,
     "metadata": {},
     "output_type": "execute_result"
    }
   ],
   "execution_count": 62
  },
  {
   "metadata": {
    "ExecuteTime": {
     "end_time": "2025-10-27T08:02:59.827509Z",
     "start_time": "2025-10-27T08:02:59.807935Z"
    }
   },
   "cell_type": "code",
   "source": "train[0][0].shape",
   "id": "3436eb0aa91a5342",
   "outputs": [
    {
     "data": {
      "text/plain": [
       "torch.Size([1, 28, 28])"
      ]
     },
     "execution_count": 63,
     "metadata": {},
     "output_type": "execute_result"
    }
   ],
   "execution_count": 63
  },
  {
   "metadata": {
    "ExecuteTime": {
     "end_time": "2025-10-27T08:02:59.843139Z",
     "start_time": "2025-10-27T08:02:59.833713Z"
    }
   },
   "cell_type": "code",
   "source": [
    "loader=DataLoader(train,batch_size=256,shuffle=True)\n",
    "test_loader=DataLoader(test,batch_size=256,shuffle=True)"
   ],
   "id": "c834bd86057002a1",
   "outputs": [],
   "execution_count": 64
  },
  {
   "metadata": {
    "ExecuteTime": {
     "end_time": "2025-10-27T08:02:59.858394Z",
     "start_time": "2025-10-27T08:02:59.848634Z"
    }
   },
   "cell_type": "code",
   "source": [
    "net=nn.Sequential(nn.Flatten(),nn.Linear(28*28,10))\n",
    "def init_weights(m):\n",
    "    if type(m)==nn.Linear:\n",
    "        nn.init.normal_(m.weight,std=0.01)\n",
    "net.apply(init_weights)\n",
    "net=net.cuda()"
   ],
   "id": "868312a3c709203e",
   "outputs": [],
   "execution_count": 65
  },
  {
   "metadata": {
    "ExecuteTime": {
     "end_time": "2025-10-27T08:02:59.874280Z",
     "start_time": "2025-10-27T08:02:59.866774Z"
    }
   },
   "cell_type": "code",
   "source": [
    "loss_fn=nn.CrossEntropyLoss().cuda()\n",
    "optimizer=torch.optim.SGD(net.parameters(),lr=0.1)"
   ],
   "id": "2556105406581790",
   "outputs": [],
   "execution_count": 66
  },
  {
   "metadata": {
    "ExecuteTime": {
     "end_time": "2025-10-27T08:02:59.889845Z",
     "start_time": "2025-10-27T08:02:59.882558Z"
    }
   },
   "cell_type": "code",
   "source": [
    "from torch.utils.tensorboard import SummaryWriter\n",
    "writer=SummaryWriter('log11')"
   ],
   "id": "b1c9a7e9e9afabcc",
   "outputs": [],
   "execution_count": 67
  },
  {
   "metadata": {
    "ExecuteTime": {
     "end_time": "2025-10-27T08:02:59.905390Z",
     "start_time": "2025-10-27T08:02:59.897198Z"
    }
   },
   "cell_type": "code",
   "source": "writer.add_image('sample picture', train[0][0])",
   "id": "d0b9041c69223f3",
   "outputs": [],
   "execution_count": 68
  },
  {
   "metadata": {
    "ExecuteTime": {
     "end_time": "2025-10-27T08:05:00.698604Z",
     "start_time": "2025-10-27T08:02:59.914755Z"
    }
   },
   "cell_type": "code",
   "source": [
    "for epoch in range(10):\n",
    "    for imgs,labels in loader:\n",
    "        imgs=imgs.cuda()\n",
    "        labels=labels.cuda()\n",
    "        optimizer.zero_grad()\n",
    "        loss=loss_fn(net(imgs),labels)\n",
    "        loss.backward()\n",
    "        optimizer.step()\n",
    "\n",
    "    net.eval()\n",
    "    with torch.no_grad():\n",
    "        test_loss=0\n",
    "        for imgs,labels in test_loader:\n",
    "            imgs=imgs.cuda()\n",
    "            labels=labels.cuda()\n",
    "            optimizer.zero_grad()\n",
    "            loss=loss_fn(net(imgs),labels)\n",
    "            test_loss+=loss\n",
    "        writer.add_scalar('loss:',test_loss,epoch+1)\n"
   ],
   "id": "78f94b518cf6c14",
   "outputs": [],
   "execution_count": 69
  },
  {
   "metadata": {
    "ExecuteTime": {
     "end_time": "2025-10-27T08:05:01.102078Z",
     "start_time": "2025-10-27T08:05:01.093974Z"
    }
   },
   "cell_type": "code",
   "source": "",
   "id": "928b4bd3c60a8025",
   "outputs": [],
   "execution_count": null
  }
 ],
 "metadata": {
  "kernelspec": {
   "display_name": "Python 3",
   "language": "python",
   "name": "python3"
  },
  "language_info": {
   "codemirror_mode": {
    "name": "ipython",
    "version": 2
   },
   "file_extension": ".py",
   "mimetype": "text/x-python",
   "name": "python",
   "nbconvert_exporter": "python",
   "pygments_lexer": "ipython2",
   "version": "2.7.6"
  }
 },
 "nbformat": 4,
 "nbformat_minor": 5
}
